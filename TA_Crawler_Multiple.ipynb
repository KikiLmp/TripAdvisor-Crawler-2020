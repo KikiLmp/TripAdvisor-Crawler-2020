{
 "cells": [
  {
   "cell_type": "code",
   "execution_count": null,
   "metadata": {},
   "outputs": [],
   "source": [
    "from crawler import *"
   ]
  },
  {
   "cell_type": "code",
   "execution_count": null,
   "metadata": {},
   "outputs": [],
   "source": [
    "browser_driver = \"Chrome\"\n",
    "driver_executable = \"path to chromedriver\"\n",
    "\n",
    "export_folder = \"folder to export the data\""
   ]
  },
  {
   "cell_type": "code",
   "execution_count": null,
   "metadata": {},
   "outputs": [],
   "source": [
    "hotels_to_parse = pd.read_excel(\"hotels_to_parse.xlsx\")"
   ]
  },
  {
   "cell_type": "code",
   "execution_count": null,
   "metadata": {},
   "outputs": [],
   "source": [
    "hotel_dataframes = []\n",
    "hotel_review_count = []\n",
    "\n",
    "for record in hotels_to_parse.itertuples():\n",
    "    if record.Index == 0:\n",
    "        crawler = TripAdvisorHotelPage(record.url, record.hotel, record.place)\n",
    "        crawler.launch(browser_driver, driver_executable)\n",
    "        crawler.collect(close=False)\n",
    "        hotel_dataframes.append(crawler.export(export_folder))\n",
    "        hotel_review_count.append(crawler.review_count)\n",
    "    else:\n",
    "        crawler = crawler.change_hotel(record.url, record.hotel, record.place)\n",
    "        crawler.collect(close=False)\n",
    "        hotel_dataframes.append(crawler.export(export_folder))\n",
    "        hotel_review_count.append(crawler.review_count)\n",
    "        \n",
    "crawler.driver.close()\n",
    "\n",
    "print(f\"\\n\\n- Reviews parsed: {sum(hotel_review_count)}\\n- Hotels  parsed: {len(hotel_review_count)}\\n\")"
   ]
  },
  {
   "cell_type": "code",
   "execution_count": null,
   "metadata": {},
   "outputs": [],
   "source": [
    "all_parsed_reviews = pd.concat(hotel_dataframes)\n",
    "all_parsed_reviews.reset_index(drop=True, inplace=True)\n",
    "all_parsed_reviews.index += 1\n",
    "all_parsed_reviews.to_excel(Path(export_folder).joinpath('all_parsed_reviews.xlsx'), index=False)\n",
    "all_parsed_reviews"
   ]
  },
  {
   "cell_type": "code",
   "execution_count": null,
   "metadata": {},
   "outputs": [],
   "source": [
    "hotels_to_parse['reviews'] = hotel_review_count\n",
    "hotels_to_parse.index += 1\n",
    "hotels_to_parse.to_excel(Path(export_folder).joinpath('all_parsed_hotels.xlsx'))"
   ]
  }
 ],
 "metadata": {
  "kernelspec": {
   "display_name": "Python 3",
   "language": "python",
   "name": "python3"
  },
  "language_info": {
   "codemirror_mode": {
    "name": "ipython",
    "version": 3
   },
   "file_extension": ".py",
   "mimetype": "text/x-python",
   "name": "python",
   "nbconvert_exporter": "python",
   "pygments_lexer": "ipython3",
   "version": "3.7.9"
  }
 },
 "nbformat": 4,
 "nbformat_minor": 4
}
